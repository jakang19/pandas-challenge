{
 "cells": [
  {
   "cell_type": "markdown",
   "metadata": {},
   "source": [
    "### Note\n",
    "* Instructions have been included for each segment. You do not have to follow them exactly, but they are included to help you think through the steps."
   ]
  },
  {
   "cell_type": "code",
   "execution_count": 1,
   "metadata": {},
   "outputs": [
    {
     "data": {
      "text/html": [
       "<div>\n",
       "<style scoped>\n",
       "    .dataframe tbody tr th:only-of-type {\n",
       "        vertical-align: middle;\n",
       "    }\n",
       "\n",
       "    .dataframe tbody tr th {\n",
       "        vertical-align: top;\n",
       "    }\n",
       "\n",
       "    .dataframe thead th {\n",
       "        text-align: right;\n",
       "    }\n",
       "</style>\n",
       "<table border=\"1\" class=\"dataframe\">\n",
       "  <thead>\n",
       "    <tr style=\"text-align: right;\">\n",
       "      <th></th>\n",
       "      <th>Purchase ID</th>\n",
       "      <th>SN</th>\n",
       "      <th>Age</th>\n",
       "      <th>Gender</th>\n",
       "      <th>Item ID</th>\n",
       "      <th>Item Name</th>\n",
       "      <th>Price</th>\n",
       "    </tr>\n",
       "  </thead>\n",
       "  <tbody>\n",
       "    <tr>\n",
       "      <th>0</th>\n",
       "      <td>0</td>\n",
       "      <td>Lisim78</td>\n",
       "      <td>20</td>\n",
       "      <td>Male</td>\n",
       "      <td>108</td>\n",
       "      <td>Extraction, Quickblade Of Trembling Hands</td>\n",
       "      <td>3.53</td>\n",
       "    </tr>\n",
       "    <tr>\n",
       "      <th>1</th>\n",
       "      <td>1</td>\n",
       "      <td>Lisovynya38</td>\n",
       "      <td>40</td>\n",
       "      <td>Male</td>\n",
       "      <td>143</td>\n",
       "      <td>Frenzied Scimitar</td>\n",
       "      <td>1.56</td>\n",
       "    </tr>\n",
       "    <tr>\n",
       "      <th>2</th>\n",
       "      <td>2</td>\n",
       "      <td>Ithergue48</td>\n",
       "      <td>24</td>\n",
       "      <td>Male</td>\n",
       "      <td>92</td>\n",
       "      <td>Final Critic</td>\n",
       "      <td>4.88</td>\n",
       "    </tr>\n",
       "    <tr>\n",
       "      <th>3</th>\n",
       "      <td>3</td>\n",
       "      <td>Chamassasya86</td>\n",
       "      <td>24</td>\n",
       "      <td>Male</td>\n",
       "      <td>100</td>\n",
       "      <td>Blindscythe</td>\n",
       "      <td>3.27</td>\n",
       "    </tr>\n",
       "    <tr>\n",
       "      <th>4</th>\n",
       "      <td>4</td>\n",
       "      <td>Iskosia90</td>\n",
       "      <td>23</td>\n",
       "      <td>Male</td>\n",
       "      <td>131</td>\n",
       "      <td>Fury</td>\n",
       "      <td>1.44</td>\n",
       "    </tr>\n",
       "    <tr>\n",
       "      <th>...</th>\n",
       "      <td>...</td>\n",
       "      <td>...</td>\n",
       "      <td>...</td>\n",
       "      <td>...</td>\n",
       "      <td>...</td>\n",
       "      <td>...</td>\n",
       "      <td>...</td>\n",
       "    </tr>\n",
       "    <tr>\n",
       "      <th>775</th>\n",
       "      <td>775</td>\n",
       "      <td>Aethedru70</td>\n",
       "      <td>21</td>\n",
       "      <td>Female</td>\n",
       "      <td>60</td>\n",
       "      <td>Wolf</td>\n",
       "      <td>3.54</td>\n",
       "    </tr>\n",
       "    <tr>\n",
       "      <th>776</th>\n",
       "      <td>776</td>\n",
       "      <td>Iral74</td>\n",
       "      <td>21</td>\n",
       "      <td>Male</td>\n",
       "      <td>164</td>\n",
       "      <td>Exiled Doomblade</td>\n",
       "      <td>1.63</td>\n",
       "    </tr>\n",
       "    <tr>\n",
       "      <th>777</th>\n",
       "      <td>777</td>\n",
       "      <td>Yathecal72</td>\n",
       "      <td>20</td>\n",
       "      <td>Male</td>\n",
       "      <td>67</td>\n",
       "      <td>Celeste, Incarnation of the Corrupted</td>\n",
       "      <td>3.46</td>\n",
       "    </tr>\n",
       "    <tr>\n",
       "      <th>778</th>\n",
       "      <td>778</td>\n",
       "      <td>Sisur91</td>\n",
       "      <td>7</td>\n",
       "      <td>Male</td>\n",
       "      <td>92</td>\n",
       "      <td>Final Critic</td>\n",
       "      <td>4.19</td>\n",
       "    </tr>\n",
       "    <tr>\n",
       "      <th>779</th>\n",
       "      <td>779</td>\n",
       "      <td>Ennrian78</td>\n",
       "      <td>24</td>\n",
       "      <td>Male</td>\n",
       "      <td>50</td>\n",
       "      <td>Dawn</td>\n",
       "      <td>4.60</td>\n",
       "    </tr>\n",
       "  </tbody>\n",
       "</table>\n",
       "<p>780 rows × 7 columns</p>\n",
       "</div>"
      ],
      "text/plain": [
       "     Purchase ID             SN  Age  Gender  Item ID  \\\n",
       "0              0        Lisim78   20    Male      108   \n",
       "1              1    Lisovynya38   40    Male      143   \n",
       "2              2     Ithergue48   24    Male       92   \n",
       "3              3  Chamassasya86   24    Male      100   \n",
       "4              4      Iskosia90   23    Male      131   \n",
       "..           ...            ...  ...     ...      ...   \n",
       "775          775     Aethedru70   21  Female       60   \n",
       "776          776         Iral74   21    Male      164   \n",
       "777          777     Yathecal72   20    Male       67   \n",
       "778          778        Sisur91    7    Male       92   \n",
       "779          779      Ennrian78   24    Male       50   \n",
       "\n",
       "                                     Item Name  Price  \n",
       "0    Extraction, Quickblade Of Trembling Hands   3.53  \n",
       "1                            Frenzied Scimitar   1.56  \n",
       "2                                 Final Critic   4.88  \n",
       "3                                  Blindscythe   3.27  \n",
       "4                                         Fury   1.44  \n",
       "..                                         ...    ...  \n",
       "775                                       Wolf   3.54  \n",
       "776                           Exiled Doomblade   1.63  \n",
       "777      Celeste, Incarnation of the Corrupted   3.46  \n",
       "778                               Final Critic   4.19  \n",
       "779                                       Dawn   4.60  \n",
       "\n",
       "[780 rows x 7 columns]"
      ]
     },
     "execution_count": 1,
     "metadata": {},
     "output_type": "execute_result"
    }
   ],
   "source": [
    "# Dependencies and Setup\n",
    "import pandas as pd\n",
    "\n",
    "# File to Load (Remember to Change These)\n",
    "file_to_load = \"Resources/purchase_data.csv\"\n",
    "\n",
    "# Read Purchasing File and store into Pandas data frame\n",
    "purchase_data = pd.read_csv(file_to_load)\n",
    "purchase_data"
   ]
  },
  {
   "cell_type": "markdown",
   "metadata": {},
   "source": [
    "## Player Count"
   ]
  },
  {
   "cell_type": "markdown",
   "metadata": {},
   "source": [
    "* Display the total number of players\n"
   ]
  },
  {
   "cell_type": "code",
   "execution_count": 2,
   "metadata": {},
   "outputs": [
    {
     "data": {
      "text/html": [
       "<div>\n",
       "<style scoped>\n",
       "    .dataframe tbody tr th:only-of-type {\n",
       "        vertical-align: middle;\n",
       "    }\n",
       "\n",
       "    .dataframe tbody tr th {\n",
       "        vertical-align: top;\n",
       "    }\n",
       "\n",
       "    .dataframe thead th {\n",
       "        text-align: right;\n",
       "    }\n",
       "</style>\n",
       "<table border=\"1\" class=\"dataframe\">\n",
       "  <thead>\n",
       "    <tr style=\"text-align: right;\">\n",
       "      <th></th>\n",
       "      <th>Total Players</th>\n",
       "    </tr>\n",
       "  </thead>\n",
       "  <tbody>\n",
       "    <tr>\n",
       "      <th>0</th>\n",
       "      <td>576</td>\n",
       "    </tr>\n",
       "  </tbody>\n",
       "</table>\n",
       "</div>"
      ],
      "text/plain": [
       "   Total Players\n",
       "0            576"
      ]
     },
     "execution_count": 2,
     "metadata": {},
     "output_type": "execute_result"
    }
   ],
   "source": [
    "# Find total number of players by counting unique SNs\n",
    "total_players = purchase_data[\"SN\"].value_counts().count()\n",
    "\n",
    "# Create Player Count df\n",
    "total_player_df = pd.DataFrame([{\"Total Players\": total_players}])\n",
    "total_player_df"
   ]
  },
  {
   "cell_type": "markdown",
   "metadata": {},
   "source": [
    "## Purchasing Analysis (Total)"
   ]
  },
  {
   "cell_type": "markdown",
   "metadata": {},
   "source": [
    "* Run basic calculations to obtain number of unique items, average price, etc.\n",
    "\n",
    "\n",
    "* Create a summary data frame to hold the results\n",
    "\n",
    "\n",
    "* Optional: give the displayed data cleaner formatting\n",
    "\n",
    "\n",
    "* Display the summary data frame\n"
   ]
  },
  {
   "cell_type": "code",
   "execution_count": 3,
   "metadata": {
    "scrolled": true
   },
   "outputs": [
    {
     "data": {
      "text/html": [
       "<style  type=\"text/css\" >\n",
       "</style><table id=\"T_6ef2cbe5_f71e_11ea_8288_185e0fb0575b\" ><thead>    <tr>        <th class=\"blank level0\" ></th>        <th class=\"col_heading level0 col0\" >Number of Unique Items</th>        <th class=\"col_heading level0 col1\" >Average Price</th>        <th class=\"col_heading level0 col2\" >Number of Purchases</th>        <th class=\"col_heading level0 col3\" >Total Revenue</th>    </tr></thead><tbody>\n",
       "                <tr>\n",
       "                        <th id=\"T_6ef2cbe5_f71e_11ea_8288_185e0fb0575blevel0_row0\" class=\"row_heading level0 row0\" >0</th>\n",
       "                        <td id=\"T_6ef2cbe5_f71e_11ea_8288_185e0fb0575brow0_col0\" class=\"data row0 col0\" >179</td>\n",
       "                        <td id=\"T_6ef2cbe5_f71e_11ea_8288_185e0fb0575brow0_col1\" class=\"data row0 col1\" >$3.05</td>\n",
       "                        <td id=\"T_6ef2cbe5_f71e_11ea_8288_185e0fb0575brow0_col2\" class=\"data row0 col2\" >780</td>\n",
       "                        <td id=\"T_6ef2cbe5_f71e_11ea_8288_185e0fb0575brow0_col3\" class=\"data row0 col3\" >$2,379.77</td>\n",
       "            </tr>\n",
       "    </tbody></table>"
      ],
      "text/plain": [
       "<pandas.io.formats.style.Styler at 0x24ddae07d00>"
      ]
     },
     "execution_count": 3,
     "metadata": {},
     "output_type": "execute_result"
    }
   ],
   "source": [
    "# Find number of unique items\n",
    "unique_items = purchase_data[\"Item ID\"].value_counts().count()\n",
    "\n",
    "# Find analysis values for purchases\n",
    "avg_price = purchase_data['Price'].mean()\n",
    "num_purchases = purchase_data[\"Purchase ID\"].max() + 1\n",
    "total_revenue = purchase_data[\"Price\"].sum()\n",
    "\n",
    "# Create Purchasing Analysis df\n",
    "purchases_summary = [{\"Number of Unique Items\":unique_items, \"Average Price\":avg_price,\n",
    "                     \"Number of Purchases\":num_purchases, \"Total Revenue\":total_revenue}]\n",
    "purchases_summary_df = pd.DataFrame(purchases_summary)\n",
    "purchases_summary_df.style.format({\n",
    "    \"Average Price\": '${:,.2f}'.format,\n",
    "    \"Total Revenue\": '${:,.2f}'.format\n",
    "})"
   ]
  },
  {
   "cell_type": "markdown",
   "metadata": {},
   "source": [
    "## Gender Demographics"
   ]
  },
  {
   "cell_type": "markdown",
   "metadata": {},
   "source": [
    "* Percentage and Count of Male Players\n",
    "\n",
    "\n",
    "* Percentage and Count of Female Players\n",
    "\n",
    "\n",
    "* Percentage and Count of Other / Non-Disclosed\n",
    "\n",
    "\n"
   ]
  },
  {
   "cell_type": "code",
   "execution_count": 4,
   "metadata": {},
   "outputs": [
    {
     "data": {
      "text/html": [
       "<style  type=\"text/css\" >\n",
       "</style><table id=\"T_6f031468_f71e_11ea_a222_185e0fb0575b\" ><thead>    <tr>        <th class=\"blank level0\" ></th>        <th class=\"col_heading level0 col0\" >Total Count</th>        <th class=\"col_heading level0 col1\" >Percentage of Players</th>    </tr></thead><tbody>\n",
       "                <tr>\n",
       "                        <th id=\"T_6f031468_f71e_11ea_a222_185e0fb0575blevel0_row0\" class=\"row_heading level0 row0\" >Male</th>\n",
       "                        <td id=\"T_6f031468_f71e_11ea_a222_185e0fb0575brow0_col0\" class=\"data row0 col0\" >484</td>\n",
       "                        <td id=\"T_6f031468_f71e_11ea_a222_185e0fb0575brow0_col1\" class=\"data row0 col1\" >84.03%</td>\n",
       "            </tr>\n",
       "            <tr>\n",
       "                        <th id=\"T_6f031468_f71e_11ea_a222_185e0fb0575blevel0_row1\" class=\"row_heading level0 row1\" >Female</th>\n",
       "                        <td id=\"T_6f031468_f71e_11ea_a222_185e0fb0575brow1_col0\" class=\"data row1 col0\" >81</td>\n",
       "                        <td id=\"T_6f031468_f71e_11ea_a222_185e0fb0575brow1_col1\" class=\"data row1 col1\" >14.06%</td>\n",
       "            </tr>\n",
       "            <tr>\n",
       "                        <th id=\"T_6f031468_f71e_11ea_a222_185e0fb0575blevel0_row2\" class=\"row_heading level0 row2\" >Other / Non-Disclosed</th>\n",
       "                        <td id=\"T_6f031468_f71e_11ea_a222_185e0fb0575brow2_col0\" class=\"data row2 col0\" >11</td>\n",
       "                        <td id=\"T_6f031468_f71e_11ea_a222_185e0fb0575brow2_col1\" class=\"data row2 col1\" >1.91%</td>\n",
       "            </tr>\n",
       "    </tbody></table>"
      ],
      "text/plain": [
       "<pandas.io.formats.style.Styler at 0x24ddcea5160>"
      ]
     },
     "execution_count": 4,
     "metadata": {},
     "output_type": "execute_result"
    }
   ],
   "source": [
    "# Create df where SN only appears once\n",
    "unique_players = purchase_data.drop_duplicates(subset=[\"SN\"], ignore_index = True)\n",
    "\n",
    "# Get gender counts\n",
    "gender_counts = unique_players[\"Gender\"].value_counts()\n",
    "\n",
    "# Calculate gender percentages\n",
    "gender_percents = gender_counts / total_players\n",
    "\n",
    "# Create Gender Demographics df\n",
    "gender_summary = {\"Total Count\": gender_counts, \n",
    "                   \"Percentage of Players\":gender_percents}\n",
    "gender_df = pd.DataFrame(gender_summary)\n",
    "gender_df.style.format({\n",
    "    \"Percentage of Players\":'{:,.2%}'\n",
    "})"
   ]
  },
  {
   "cell_type": "markdown",
   "metadata": {},
   "source": [
    "\n",
    "## Purchasing Analysis (Gender)"
   ]
  },
  {
   "cell_type": "markdown",
   "metadata": {},
   "source": [
    "* Run basic calculations to obtain purchase count, avg. purchase price, avg. purchase total per person etc. by gender\n",
    "\n",
    "\n",
    "\n",
    "\n",
    "* Create a summary data frame to hold the results\n",
    "\n",
    "\n",
    "* Optional: give the displayed data cleaner formatting\n",
    "\n",
    "\n",
    "* Display the summary data frame"
   ]
  },
  {
   "cell_type": "code",
   "execution_count": 5,
   "metadata": {},
   "outputs": [
    {
     "data": {
      "text/html": [
       "<style  type=\"text/css\" >\n",
       "</style><table id=\"T_6f0b4c0b_f71e_11ea_b7d8_185e0fb0575b\" ><thead>    <tr>        <th class=\"blank level0\" ></th>        <th class=\"col_heading level0 col0\" >Purchase Count</th>        <th class=\"col_heading level0 col1\" >Average Purchase Price</th>        <th class=\"col_heading level0 col2\" >Total Purchase Value</th>        <th class=\"col_heading level0 col3\" >Avg Total Purchase per Person</th>    </tr></thead><tbody>\n",
       "                <tr>\n",
       "                        <th id=\"T_6f0b4c0b_f71e_11ea_b7d8_185e0fb0575blevel0_row0\" class=\"row_heading level0 row0\" >Female</th>\n",
       "                        <td id=\"T_6f0b4c0b_f71e_11ea_b7d8_185e0fb0575brow0_col0\" class=\"data row0 col0\" >113</td>\n",
       "                        <td id=\"T_6f0b4c0b_f71e_11ea_b7d8_185e0fb0575brow0_col1\" class=\"data row0 col1\" >$3.20</td>\n",
       "                        <td id=\"T_6f0b4c0b_f71e_11ea_b7d8_185e0fb0575brow0_col2\" class=\"data row0 col2\" >$361.94</td>\n",
       "                        <td id=\"T_6f0b4c0b_f71e_11ea_b7d8_185e0fb0575brow0_col3\" class=\"data row0 col3\" >$4.47</td>\n",
       "            </tr>\n",
       "            <tr>\n",
       "                        <th id=\"T_6f0b4c0b_f71e_11ea_b7d8_185e0fb0575blevel0_row1\" class=\"row_heading level0 row1\" >Male</th>\n",
       "                        <td id=\"T_6f0b4c0b_f71e_11ea_b7d8_185e0fb0575brow1_col0\" class=\"data row1 col0\" >652</td>\n",
       "                        <td id=\"T_6f0b4c0b_f71e_11ea_b7d8_185e0fb0575brow1_col1\" class=\"data row1 col1\" >$3.02</td>\n",
       "                        <td id=\"T_6f0b4c0b_f71e_11ea_b7d8_185e0fb0575brow1_col2\" class=\"data row1 col2\" >$1,967.64</td>\n",
       "                        <td id=\"T_6f0b4c0b_f71e_11ea_b7d8_185e0fb0575brow1_col3\" class=\"data row1 col3\" >$4.07</td>\n",
       "            </tr>\n",
       "            <tr>\n",
       "                        <th id=\"T_6f0b4c0b_f71e_11ea_b7d8_185e0fb0575blevel0_row2\" class=\"row_heading level0 row2\" >Other / Non-Disclosed</th>\n",
       "                        <td id=\"T_6f0b4c0b_f71e_11ea_b7d8_185e0fb0575brow2_col0\" class=\"data row2 col0\" >15</td>\n",
       "                        <td id=\"T_6f0b4c0b_f71e_11ea_b7d8_185e0fb0575brow2_col1\" class=\"data row2 col1\" >$3.35</td>\n",
       "                        <td id=\"T_6f0b4c0b_f71e_11ea_b7d8_185e0fb0575brow2_col2\" class=\"data row2 col2\" >$50.19</td>\n",
       "                        <td id=\"T_6f0b4c0b_f71e_11ea_b7d8_185e0fb0575brow2_col3\" class=\"data row2 col3\" >$4.56</td>\n",
       "            </tr>\n",
       "    </tbody></table>"
      ],
      "text/plain": [
       "<pandas.io.formats.style.Styler at 0x24ddce6feb0>"
      ]
     },
     "execution_count": 5,
     "metadata": {},
     "output_type": "execute_result"
    }
   ],
   "source": [
    "# Find total purchase counts by gender\n",
    "gender_purchase_count = purchase_data[\"Gender\"].value_counts()\n",
    "\n",
    "# Calculate total purchase price by gender\n",
    "total_purchases = purchase_data.groupby([\"Gender\"])[\"Price\"].sum()\n",
    "\n",
    "# Calculate average purchase price by gender\n",
    "avg_gender_price = total_purchases / gender_purchase_count\n",
    "\n",
    "# Calculate average purchase price by player\n",
    "unique_purchases = total_purchases / gender_counts\n",
    "\n",
    "# Create Purchasing Analysis (Gender) df\n",
    "gender_purchases = {\"Purchase Count\":gender_purchase_count,\n",
    "                    \"Average Purchase Price\":avg_gender_price,\n",
    "                    \"Total Purchase Value\":total_purchases,\n",
    "                    \"Avg Total Purchase per Person\":unique_purchases}\n",
    "gender_purchase_df = pd.DataFrame(gender_purchases)\n",
    "gender_purchase_df.style.format({\n",
    "    \"Average Purchase Price\":'${:,.2f}',\n",
    "    \"Total Purchase Value\":'${:,.2f}',\n",
    "    \"Avg Total Purchase per Person\":'${:,.2f}'\n",
    "})"
   ]
  },
  {
   "cell_type": "markdown",
   "metadata": {},
   "source": [
    "## Age Demographics"
   ]
  },
  {
   "cell_type": "markdown",
   "metadata": {},
   "source": [
    "* Establish bins for ages\n",
    "\n",
    "\n",
    "* Categorize the existing players using the age bins. Hint: use pd.cut()\n",
    "\n",
    "\n",
    "* Calculate the numbers and percentages by age group\n",
    "\n",
    "\n",
    "* Create a summary data frame to hold the results\n",
    "\n",
    "\n",
    "* Optional: round the percentage column to two decimal points\n",
    "\n",
    "\n",
    "* Display Age Demographics Table\n"
   ]
  },
  {
   "cell_type": "code",
   "execution_count": 6,
   "metadata": {},
   "outputs": [
    {
     "data": {
      "text/html": [
       "<style  type=\"text/css\" >\n",
       "</style><table id=\"T_6f18fe97_f71e_11ea_9f40_185e0fb0575b\" ><thead>    <tr>        <th class=\"blank level0\" ></th>        <th class=\"col_heading level0 col0\" >Total Count</th>        <th class=\"col_heading level0 col1\" >Percent of Players</th>    </tr></thead><tbody>\n",
       "                <tr>\n",
       "                        <th id=\"T_6f18fe97_f71e_11ea_9f40_185e0fb0575blevel0_row0\" class=\"row_heading level0 row0\" ><10</th>\n",
       "                        <td id=\"T_6f18fe97_f71e_11ea_9f40_185e0fb0575brow0_col0\" class=\"data row0 col0\" >17</td>\n",
       "                        <td id=\"T_6f18fe97_f71e_11ea_9f40_185e0fb0575brow0_col1\" class=\"data row0 col1\" >2.95%</td>\n",
       "            </tr>\n",
       "            <tr>\n",
       "                        <th id=\"T_6f18fe97_f71e_11ea_9f40_185e0fb0575blevel0_row1\" class=\"row_heading level0 row1\" >10-14</th>\n",
       "                        <td id=\"T_6f18fe97_f71e_11ea_9f40_185e0fb0575brow1_col0\" class=\"data row1 col0\" >22</td>\n",
       "                        <td id=\"T_6f18fe97_f71e_11ea_9f40_185e0fb0575brow1_col1\" class=\"data row1 col1\" >3.82%</td>\n",
       "            </tr>\n",
       "            <tr>\n",
       "                        <th id=\"T_6f18fe97_f71e_11ea_9f40_185e0fb0575blevel0_row2\" class=\"row_heading level0 row2\" >15-19</th>\n",
       "                        <td id=\"T_6f18fe97_f71e_11ea_9f40_185e0fb0575brow2_col0\" class=\"data row2 col0\" >107</td>\n",
       "                        <td id=\"T_6f18fe97_f71e_11ea_9f40_185e0fb0575brow2_col1\" class=\"data row2 col1\" >18.58%</td>\n",
       "            </tr>\n",
       "            <tr>\n",
       "                        <th id=\"T_6f18fe97_f71e_11ea_9f40_185e0fb0575blevel0_row3\" class=\"row_heading level0 row3\" >20-24</th>\n",
       "                        <td id=\"T_6f18fe97_f71e_11ea_9f40_185e0fb0575brow3_col0\" class=\"data row3 col0\" >258</td>\n",
       "                        <td id=\"T_6f18fe97_f71e_11ea_9f40_185e0fb0575brow3_col1\" class=\"data row3 col1\" >44.79%</td>\n",
       "            </tr>\n",
       "            <tr>\n",
       "                        <th id=\"T_6f18fe97_f71e_11ea_9f40_185e0fb0575blevel0_row4\" class=\"row_heading level0 row4\" >25-29</th>\n",
       "                        <td id=\"T_6f18fe97_f71e_11ea_9f40_185e0fb0575brow4_col0\" class=\"data row4 col0\" >77</td>\n",
       "                        <td id=\"T_6f18fe97_f71e_11ea_9f40_185e0fb0575brow4_col1\" class=\"data row4 col1\" >13.37%</td>\n",
       "            </tr>\n",
       "            <tr>\n",
       "                        <th id=\"T_6f18fe97_f71e_11ea_9f40_185e0fb0575blevel0_row5\" class=\"row_heading level0 row5\" >30-34</th>\n",
       "                        <td id=\"T_6f18fe97_f71e_11ea_9f40_185e0fb0575brow5_col0\" class=\"data row5 col0\" >52</td>\n",
       "                        <td id=\"T_6f18fe97_f71e_11ea_9f40_185e0fb0575brow5_col1\" class=\"data row5 col1\" >9.03%</td>\n",
       "            </tr>\n",
       "            <tr>\n",
       "                        <th id=\"T_6f18fe97_f71e_11ea_9f40_185e0fb0575blevel0_row6\" class=\"row_heading level0 row6\" >35-39</th>\n",
       "                        <td id=\"T_6f18fe97_f71e_11ea_9f40_185e0fb0575brow6_col0\" class=\"data row6 col0\" >31</td>\n",
       "                        <td id=\"T_6f18fe97_f71e_11ea_9f40_185e0fb0575brow6_col1\" class=\"data row6 col1\" >5.38%</td>\n",
       "            </tr>\n",
       "            <tr>\n",
       "                        <th id=\"T_6f18fe97_f71e_11ea_9f40_185e0fb0575blevel0_row7\" class=\"row_heading level0 row7\" >40+</th>\n",
       "                        <td id=\"T_6f18fe97_f71e_11ea_9f40_185e0fb0575brow7_col0\" class=\"data row7 col0\" >12</td>\n",
       "                        <td id=\"T_6f18fe97_f71e_11ea_9f40_185e0fb0575brow7_col1\" class=\"data row7 col1\" >2.08%</td>\n",
       "            </tr>\n",
       "    </tbody></table>"
      ],
      "text/plain": [
       "<pandas.io.formats.style.Styler at 0x24ddcea56a0>"
      ]
     },
     "execution_count": 6,
     "metadata": {},
     "output_type": "execute_result"
    }
   ],
   "source": [
    "# Create bins to divide by age group\n",
    "age_bins = [0,9,14,19,24,29,34,39,100]\n",
    "age_names = [\"<10\", \"10-14\", \"15-19\", \"20-24\",\n",
    "             \"25-29\", \"30-34\", \"35-39\", \"40+\"]\n",
    "\n",
    "# Find total count of players in each age group\n",
    "age_groups = pd.cut(unique_players[\"Age\"], age_bins, labels = age_names).value_counts()\n",
    "\n",
    "# Find percentage of players in each age group\n",
    "age_percent = age_groups / total_players\n",
    "\n",
    "# Create Age demographics df\n",
    "age = {\"Total Count\":age_groups, \"Percent of Players\":age_percent}\n",
    "age_df = pd.DataFrame(age, index = age_names)\n",
    "age_df.style.format({\n",
    "    \"Percent of Players\":'{:,.2%}'\n",
    "})"
   ]
  },
  {
   "cell_type": "markdown",
   "metadata": {},
   "source": [
    "## Purchasing Analysis (Age)"
   ]
  },
  {
   "cell_type": "markdown",
   "metadata": {},
   "source": [
    "* Bin the purchase_data data frame by age\n",
    "\n",
    "\n",
    "* Run basic calculations to obtain purchase count, avg. purchase price, avg. purchase total per person etc. in the table below\n",
    "\n",
    "\n",
    "* Create a summary data frame to hold the results\n",
    "\n",
    "\n",
    "* Optional: give the displayed data cleaner formatting\n",
    "\n",
    "\n",
    "* Display the summary data frame"
   ]
  },
  {
   "cell_type": "code",
   "execution_count": 7,
   "metadata": {},
   "outputs": [
    {
     "data": {
      "text/html": [
       "<style  type=\"text/css\" >\n",
       "</style><table id=\"T_6f2f0f52_f71e_11ea_8a8a_185e0fb0575b\" ><thead>    <tr>        <th class=\"blank level0\" ></th>        <th class=\"col_heading level0 col0\" >Purchase Count</th>        <th class=\"col_heading level0 col1\" >Average Purchase Price</th>        <th class=\"col_heading level0 col2\" >Total Purchase Value</th>        <th class=\"col_heading level0 col3\" >Avg Total Purchase per Person</th>    </tr></thead><tbody>\n",
       "                <tr>\n",
       "                        <th id=\"T_6f2f0f52_f71e_11ea_8a8a_185e0fb0575blevel0_row0\" class=\"row_heading level0 row0\" ><10</th>\n",
       "                        <td id=\"T_6f2f0f52_f71e_11ea_8a8a_185e0fb0575brow0_col0\" class=\"data row0 col0\" >23</td>\n",
       "                        <td id=\"T_6f2f0f52_f71e_11ea_8a8a_185e0fb0575brow0_col1\" class=\"data row0 col1\" >$3.35</td>\n",
       "                        <td id=\"T_6f2f0f52_f71e_11ea_8a8a_185e0fb0575brow0_col2\" class=\"data row0 col2\" >$77.13</td>\n",
       "                        <td id=\"T_6f2f0f52_f71e_11ea_8a8a_185e0fb0575brow0_col3\" class=\"data row0 col3\" >$4.54</td>\n",
       "            </tr>\n",
       "            <tr>\n",
       "                        <th id=\"T_6f2f0f52_f71e_11ea_8a8a_185e0fb0575blevel0_row1\" class=\"row_heading level0 row1\" >10-14</th>\n",
       "                        <td id=\"T_6f2f0f52_f71e_11ea_8a8a_185e0fb0575brow1_col0\" class=\"data row1 col0\" >28</td>\n",
       "                        <td id=\"T_6f2f0f52_f71e_11ea_8a8a_185e0fb0575brow1_col1\" class=\"data row1 col1\" >$2.96</td>\n",
       "                        <td id=\"T_6f2f0f52_f71e_11ea_8a8a_185e0fb0575brow1_col2\" class=\"data row1 col2\" >$82.78</td>\n",
       "                        <td id=\"T_6f2f0f52_f71e_11ea_8a8a_185e0fb0575brow1_col3\" class=\"data row1 col3\" >$3.76</td>\n",
       "            </tr>\n",
       "            <tr>\n",
       "                        <th id=\"T_6f2f0f52_f71e_11ea_8a8a_185e0fb0575blevel0_row2\" class=\"row_heading level0 row2\" >15-19</th>\n",
       "                        <td id=\"T_6f2f0f52_f71e_11ea_8a8a_185e0fb0575brow2_col0\" class=\"data row2 col0\" >136</td>\n",
       "                        <td id=\"T_6f2f0f52_f71e_11ea_8a8a_185e0fb0575brow2_col1\" class=\"data row2 col1\" >$3.04</td>\n",
       "                        <td id=\"T_6f2f0f52_f71e_11ea_8a8a_185e0fb0575brow2_col2\" class=\"data row2 col2\" >$412.89</td>\n",
       "                        <td id=\"T_6f2f0f52_f71e_11ea_8a8a_185e0fb0575brow2_col3\" class=\"data row2 col3\" >$3.86</td>\n",
       "            </tr>\n",
       "            <tr>\n",
       "                        <th id=\"T_6f2f0f52_f71e_11ea_8a8a_185e0fb0575blevel0_row3\" class=\"row_heading level0 row3\" >20-24</th>\n",
       "                        <td id=\"T_6f2f0f52_f71e_11ea_8a8a_185e0fb0575brow3_col0\" class=\"data row3 col0\" >365</td>\n",
       "                        <td id=\"T_6f2f0f52_f71e_11ea_8a8a_185e0fb0575brow3_col1\" class=\"data row3 col1\" >$3.05</td>\n",
       "                        <td id=\"T_6f2f0f52_f71e_11ea_8a8a_185e0fb0575brow3_col2\" class=\"data row3 col2\" >$1,114.06</td>\n",
       "                        <td id=\"T_6f2f0f52_f71e_11ea_8a8a_185e0fb0575brow3_col3\" class=\"data row3 col3\" >$4.32</td>\n",
       "            </tr>\n",
       "            <tr>\n",
       "                        <th id=\"T_6f2f0f52_f71e_11ea_8a8a_185e0fb0575blevel0_row4\" class=\"row_heading level0 row4\" >25-29</th>\n",
       "                        <td id=\"T_6f2f0f52_f71e_11ea_8a8a_185e0fb0575brow4_col0\" class=\"data row4 col0\" >101</td>\n",
       "                        <td id=\"T_6f2f0f52_f71e_11ea_8a8a_185e0fb0575brow4_col1\" class=\"data row4 col1\" >$2.90</td>\n",
       "                        <td id=\"T_6f2f0f52_f71e_11ea_8a8a_185e0fb0575brow4_col2\" class=\"data row4 col2\" >$293.00</td>\n",
       "                        <td id=\"T_6f2f0f52_f71e_11ea_8a8a_185e0fb0575brow4_col3\" class=\"data row4 col3\" >$3.81</td>\n",
       "            </tr>\n",
       "            <tr>\n",
       "                        <th id=\"T_6f2f0f52_f71e_11ea_8a8a_185e0fb0575blevel0_row5\" class=\"row_heading level0 row5\" >30-34</th>\n",
       "                        <td id=\"T_6f2f0f52_f71e_11ea_8a8a_185e0fb0575brow5_col0\" class=\"data row5 col0\" >73</td>\n",
       "                        <td id=\"T_6f2f0f52_f71e_11ea_8a8a_185e0fb0575brow5_col1\" class=\"data row5 col1\" >$2.93</td>\n",
       "                        <td id=\"T_6f2f0f52_f71e_11ea_8a8a_185e0fb0575brow5_col2\" class=\"data row5 col2\" >$214.00</td>\n",
       "                        <td id=\"T_6f2f0f52_f71e_11ea_8a8a_185e0fb0575brow5_col3\" class=\"data row5 col3\" >$4.12</td>\n",
       "            </tr>\n",
       "            <tr>\n",
       "                        <th id=\"T_6f2f0f52_f71e_11ea_8a8a_185e0fb0575blevel0_row6\" class=\"row_heading level0 row6\" >35-39</th>\n",
       "                        <td id=\"T_6f2f0f52_f71e_11ea_8a8a_185e0fb0575brow6_col0\" class=\"data row6 col0\" >41</td>\n",
       "                        <td id=\"T_6f2f0f52_f71e_11ea_8a8a_185e0fb0575brow6_col1\" class=\"data row6 col1\" >$3.60</td>\n",
       "                        <td id=\"T_6f2f0f52_f71e_11ea_8a8a_185e0fb0575brow6_col2\" class=\"data row6 col2\" >$147.67</td>\n",
       "                        <td id=\"T_6f2f0f52_f71e_11ea_8a8a_185e0fb0575brow6_col3\" class=\"data row6 col3\" >$4.76</td>\n",
       "            </tr>\n",
       "            <tr>\n",
       "                        <th id=\"T_6f2f0f52_f71e_11ea_8a8a_185e0fb0575blevel0_row7\" class=\"row_heading level0 row7\" >40+</th>\n",
       "                        <td id=\"T_6f2f0f52_f71e_11ea_8a8a_185e0fb0575brow7_col0\" class=\"data row7 col0\" >13</td>\n",
       "                        <td id=\"T_6f2f0f52_f71e_11ea_8a8a_185e0fb0575brow7_col1\" class=\"data row7 col1\" >$2.94</td>\n",
       "                        <td id=\"T_6f2f0f52_f71e_11ea_8a8a_185e0fb0575brow7_col2\" class=\"data row7 col2\" >$38.24</td>\n",
       "                        <td id=\"T_6f2f0f52_f71e_11ea_8a8a_185e0fb0575brow7_col3\" class=\"data row7 col3\" >$3.19</td>\n",
       "            </tr>\n",
       "    </tbody></table>"
      ],
      "text/plain": [
       "<pandas.io.formats.style.Styler at 0x24dddf341f0>"
      ]
     },
     "execution_count": 7,
     "metadata": {},
     "output_type": "execute_result"
    }
   ],
   "source": [
    "# Add Age groups to puchasing data df\n",
    "purchase_data[\"Age Groups\"] = pd.cut(purchase_data[\"Age\"], age_bins, labels = age_names)\n",
    "\n",
    "# Find total purchase counts by age group\n",
    "age_purchase_count = purchase_data[\"Age Groups\"].value_counts()\n",
    "\n",
    "# Calculate total purchase price by age group\n",
    "total_age_purchases = purchase_data.groupby([\"Age Groups\"])[\"Price\"].sum()\n",
    "\n",
    "# Calculate average purchase price by age group\n",
    "avg_age_price = total_age_purchases / age_purchase_count\n",
    "\n",
    "# Calculate average purchase price by player divided by age group\n",
    "unique_age_purchases = total_age_purchases / age_groups\n",
    "\n",
    "# Create Purchasing Analysis (Age) df\n",
    "age_purchases = {\"Purchase Count\":age_purchase_count,\n",
    "                    \"Average Purchase Price\":avg_age_price,\n",
    "                    \"Total Purchase Value\":total_age_purchases,\n",
    "                    \"Avg Total Purchase per Person\":unique_age_purchases}\n",
    "age_purchase_df = pd.DataFrame(age_purchases)\n",
    "age_purchase_df.style.format({\n",
    "    \"Average Purchase Price\":'${:,.2f}',\n",
    "    \"Total Purchase Value\":'${:,.2f}',\n",
    "    \"Avg Total Purchase per Person\":'${:,.2f}'\n",
    "})"
   ]
  },
  {
   "cell_type": "markdown",
   "metadata": {},
   "source": [
    "## Top Spenders"
   ]
  },
  {
   "cell_type": "markdown",
   "metadata": {},
   "source": [
    "* Run basic calculations to obtain the results in the table below\n",
    "\n",
    "\n",
    "* Create a summary data frame to hold the results\n",
    "\n",
    "\n",
    "* Sort the total purchase value column in descending order\n",
    "\n",
    "\n",
    "* Optional: give the displayed data cleaner formatting\n",
    "\n",
    "\n",
    "* Display a preview of the summary data frame\n",
    "\n"
   ]
  },
  {
   "cell_type": "code",
   "execution_count": 8,
   "metadata": {},
   "outputs": [
    {
     "data": {
      "text/html": [
       "<style  type=\"text/css\" >\n",
       "</style><table id=\"T_6f3a7969_f71e_11ea_914f_185e0fb0575b\" ><thead>    <tr>        <th class=\"blank level0\" ></th>        <th class=\"col_heading level0 col0\" >Purchase Count</th>        <th class=\"col_heading level0 col1\" >Average Purchase Price</th>        <th class=\"col_heading level0 col2\" >Total Purchase Value</th>    </tr></thead><tbody>\n",
       "                <tr>\n",
       "                        <th id=\"T_6f3a7969_f71e_11ea_914f_185e0fb0575blevel0_row0\" class=\"row_heading level0 row0\" >Lisosia93</th>\n",
       "                        <td id=\"T_6f3a7969_f71e_11ea_914f_185e0fb0575brow0_col0\" class=\"data row0 col0\" >5</td>\n",
       "                        <td id=\"T_6f3a7969_f71e_11ea_914f_185e0fb0575brow0_col1\" class=\"data row0 col1\" >$3.79</td>\n",
       "                        <td id=\"T_6f3a7969_f71e_11ea_914f_185e0fb0575brow0_col2\" class=\"data row0 col2\" >$18.96</td>\n",
       "            </tr>\n",
       "            <tr>\n",
       "                        <th id=\"T_6f3a7969_f71e_11ea_914f_185e0fb0575blevel0_row1\" class=\"row_heading level0 row1\" >Idastidru52</th>\n",
       "                        <td id=\"T_6f3a7969_f71e_11ea_914f_185e0fb0575brow1_col0\" class=\"data row1 col0\" >4</td>\n",
       "                        <td id=\"T_6f3a7969_f71e_11ea_914f_185e0fb0575brow1_col1\" class=\"data row1 col1\" >$3.86</td>\n",
       "                        <td id=\"T_6f3a7969_f71e_11ea_914f_185e0fb0575brow1_col2\" class=\"data row1 col2\" >$15.45</td>\n",
       "            </tr>\n",
       "            <tr>\n",
       "                        <th id=\"T_6f3a7969_f71e_11ea_914f_185e0fb0575blevel0_row2\" class=\"row_heading level0 row2\" >Chamjask73</th>\n",
       "                        <td id=\"T_6f3a7969_f71e_11ea_914f_185e0fb0575brow2_col0\" class=\"data row2 col0\" >3</td>\n",
       "                        <td id=\"T_6f3a7969_f71e_11ea_914f_185e0fb0575brow2_col1\" class=\"data row2 col1\" >$4.61</td>\n",
       "                        <td id=\"T_6f3a7969_f71e_11ea_914f_185e0fb0575brow2_col2\" class=\"data row2 col2\" >$13.83</td>\n",
       "            </tr>\n",
       "            <tr>\n",
       "                        <th id=\"T_6f3a7969_f71e_11ea_914f_185e0fb0575blevel0_row3\" class=\"row_heading level0 row3\" >Iral74</th>\n",
       "                        <td id=\"T_6f3a7969_f71e_11ea_914f_185e0fb0575brow3_col0\" class=\"data row3 col0\" >4</td>\n",
       "                        <td id=\"T_6f3a7969_f71e_11ea_914f_185e0fb0575brow3_col1\" class=\"data row3 col1\" >$3.40</td>\n",
       "                        <td id=\"T_6f3a7969_f71e_11ea_914f_185e0fb0575brow3_col2\" class=\"data row3 col2\" >$13.62</td>\n",
       "            </tr>\n",
       "            <tr>\n",
       "                        <th id=\"T_6f3a7969_f71e_11ea_914f_185e0fb0575blevel0_row4\" class=\"row_heading level0 row4\" >Iskadarya95</th>\n",
       "                        <td id=\"T_6f3a7969_f71e_11ea_914f_185e0fb0575brow4_col0\" class=\"data row4 col0\" >3</td>\n",
       "                        <td id=\"T_6f3a7969_f71e_11ea_914f_185e0fb0575brow4_col1\" class=\"data row4 col1\" >$4.37</td>\n",
       "                        <td id=\"T_6f3a7969_f71e_11ea_914f_185e0fb0575brow4_col2\" class=\"data row4 col2\" >$13.10</td>\n",
       "            </tr>\n",
       "    </tbody></table>"
      ],
      "text/plain": [
       "<pandas.io.formats.style.Styler at 0x24dddf8cee0>"
      ]
     },
     "execution_count": 8,
     "metadata": {},
     "output_type": "execute_result"
    }
   ],
   "source": [
    "# Calculate top total purchasing value\n",
    "total_SN_purchases = purchase_data.groupby([\"SN\"])[\"Price\"].sum()\n",
    "\n",
    "# Find top purchase counts\n",
    "top_purchase_count = purchase_data[\"SN\"].value_counts()\n",
    "\n",
    "# Calculate avg top purchase prices\n",
    "avg_top_price = total_SN_purchases / top_purchase_count\n",
    "\n",
    "# Create Top Spenders df\n",
    "top_purchases = {\"Purchase Count\":top_purchase_count,\n",
    "                    \"Average Purchase Price\":avg_top_price,\n",
    "                    \"Total Purchase Value\":total_SN_purchases}\n",
    "top_purchase_df = pd.DataFrame(top_purchases)\n",
    "\n",
    "# Find top 5 spenders by total purchase value\n",
    "top_purchase_df = top_purchase_df.sort_values([\"Total Purchase Value\"], ascending = False)\n",
    "top_purchase_df = top_purchase_df.head(5)\n",
    "top_purchase_df.style.format({\n",
    "    \"Average Purchase Price\":'${:,.2f}',\n",
    "    \"Total Purchase Value\":'${:,.2f}'\n",
    "})"
   ]
  },
  {
   "cell_type": "markdown",
   "metadata": {},
   "source": [
    "## Most Popular Items"
   ]
  },
  {
   "cell_type": "markdown",
   "metadata": {},
   "source": [
    "* Retrieve the Item ID, Item Name, and Item Price columns\n",
    "\n",
    "\n",
    "* Group by Item ID and Item Name. Perform calculations to obtain purchase count, average item price, and total purchase value\n",
    "\n",
    "\n",
    "* Create a summary data frame to hold the results\n",
    "\n",
    "\n",
    "* Sort the purchase count column in descending order\n",
    "\n",
    "\n",
    "* Optional: give the displayed data cleaner formatting\n",
    "\n",
    "\n",
    "* Display a preview of the summary data frame\n",
    "\n"
   ]
  },
  {
   "cell_type": "code",
   "execution_count": 9,
   "metadata": {},
   "outputs": [
    {
     "data": {
      "text/html": [
       "<style  type=\"text/css\" >\n",
       "</style><table id=\"T_6f42feed_f71e_11ea_a570_185e0fb0575b\" ><thead>    <tr>        <th class=\"blank\" ></th>        <th class=\"blank level0\" ></th>        <th class=\"col_heading level0 col0\" >Purchase Count</th>        <th class=\"col_heading level0 col1\" >Item Price</th>        <th class=\"col_heading level0 col2\" >Total Purchase Value</th>    </tr>    <tr>        <th class=\"index_name level0\" >Item ID</th>        <th class=\"index_name level1\" >Item Name</th>        <th class=\"blank\" ></th>        <th class=\"blank\" ></th>        <th class=\"blank\" ></th>    </tr></thead><tbody>\n",
       "                <tr>\n",
       "                        <th id=\"T_6f42feed_f71e_11ea_a570_185e0fb0575blevel0_row0\" class=\"row_heading level0 row0\" >92</th>\n",
       "                        <th id=\"T_6f42feed_f71e_11ea_a570_185e0fb0575blevel1_row0\" class=\"row_heading level1 row0\" >Final Critic</th>\n",
       "                        <td id=\"T_6f42feed_f71e_11ea_a570_185e0fb0575brow0_col0\" class=\"data row0 col0\" >13</td>\n",
       "                        <td id=\"T_6f42feed_f71e_11ea_a570_185e0fb0575brow0_col1\" class=\"data row0 col1\" >$4.61</td>\n",
       "                        <td id=\"T_6f42feed_f71e_11ea_a570_185e0fb0575brow0_col2\" class=\"data row0 col2\" >$59.99</td>\n",
       "            </tr>\n",
       "            <tr>\n",
       "                        <th id=\"T_6f42feed_f71e_11ea_a570_185e0fb0575blevel0_row1\" class=\"row_heading level0 row1\" >178</th>\n",
       "                        <th id=\"T_6f42feed_f71e_11ea_a570_185e0fb0575blevel1_row1\" class=\"row_heading level1 row1\" >Oathbreaker, Last Hope of the Breaking Storm</th>\n",
       "                        <td id=\"T_6f42feed_f71e_11ea_a570_185e0fb0575brow1_col0\" class=\"data row1 col0\" >12</td>\n",
       "                        <td id=\"T_6f42feed_f71e_11ea_a570_185e0fb0575brow1_col1\" class=\"data row1 col1\" >$4.23</td>\n",
       "                        <td id=\"T_6f42feed_f71e_11ea_a570_185e0fb0575brow1_col2\" class=\"data row1 col2\" >$50.76</td>\n",
       "            </tr>\n",
       "            <tr>\n",
       "                        <th id=\"T_6f42feed_f71e_11ea_a570_185e0fb0575blevel0_row2\" class=\"row_heading level0 row2\" >145</th>\n",
       "                        <th id=\"T_6f42feed_f71e_11ea_a570_185e0fb0575blevel1_row2\" class=\"row_heading level1 row2\" >Fiery Glass Crusader</th>\n",
       "                        <td id=\"T_6f42feed_f71e_11ea_a570_185e0fb0575brow2_col0\" class=\"data row2 col0\" >9</td>\n",
       "                        <td id=\"T_6f42feed_f71e_11ea_a570_185e0fb0575brow2_col1\" class=\"data row2 col1\" >$4.58</td>\n",
       "                        <td id=\"T_6f42feed_f71e_11ea_a570_185e0fb0575brow2_col2\" class=\"data row2 col2\" >$41.22</td>\n",
       "            </tr>\n",
       "            <tr>\n",
       "                        <th id=\"T_6f42feed_f71e_11ea_a570_185e0fb0575blevel0_row3\" class=\"row_heading level0 row3\" >132</th>\n",
       "                        <th id=\"T_6f42feed_f71e_11ea_a570_185e0fb0575blevel1_row3\" class=\"row_heading level1 row3\" >Persuasion</th>\n",
       "                        <td id=\"T_6f42feed_f71e_11ea_a570_185e0fb0575brow3_col0\" class=\"data row3 col0\" >9</td>\n",
       "                        <td id=\"T_6f42feed_f71e_11ea_a570_185e0fb0575brow3_col1\" class=\"data row3 col1\" >$3.22</td>\n",
       "                        <td id=\"T_6f42feed_f71e_11ea_a570_185e0fb0575brow3_col2\" class=\"data row3 col2\" >$28.99</td>\n",
       "            </tr>\n",
       "            <tr>\n",
       "                        <th id=\"T_6f42feed_f71e_11ea_a570_185e0fb0575blevel0_row4\" class=\"row_heading level0 row4\" >108</th>\n",
       "                        <th id=\"T_6f42feed_f71e_11ea_a570_185e0fb0575blevel1_row4\" class=\"row_heading level1 row4\" >Extraction, Quickblade Of Trembling Hands</th>\n",
       "                        <td id=\"T_6f42feed_f71e_11ea_a570_185e0fb0575brow4_col0\" class=\"data row4 col0\" >9</td>\n",
       "                        <td id=\"T_6f42feed_f71e_11ea_a570_185e0fb0575brow4_col1\" class=\"data row4 col1\" >$3.53</td>\n",
       "                        <td id=\"T_6f42feed_f71e_11ea_a570_185e0fb0575brow4_col2\" class=\"data row4 col2\" >$31.77</td>\n",
       "            </tr>\n",
       "    </tbody></table>"
      ],
      "text/plain": [
       "<pandas.io.formats.style.Styler at 0x24ddae567c0>"
      ]
     },
     "execution_count": 9,
     "metadata": {},
     "output_type": "execute_result"
    }
   ],
   "source": [
    "item_df = purchase_data[[\"Item ID\",\"Item Name\", \"Price\"]]\n",
    "item_groups = item_df.groupby([\"Item ID\", \"Item Name\"])\n",
    "\n",
    "# Calculate total purchasing value each item\n",
    "total_item_purchases = item_groups[\"Price\"].sum()\n",
    "\n",
    "# Find item purchase counts\n",
    "item_counts = item_groups[\"Item ID\"].count()\n",
    "\n",
    "# Calculate item price\n",
    "item_price = total_item_purchases / item_counts\n",
    "\n",
    "# Create Popular Items df\n",
    "top_items = {\"Purchase Count\":item_counts,\n",
    "             \"Item Price\": item_price,\n",
    "             \"Total Purchase Value\":total_item_purchases}\n",
    "top_items_df = pd.DataFrame(top_items)\n",
    "\n",
    "top_items_df = top_items_df.sort_values([\"Purchase Count\"], ascending = False)\n",
    "top_items_df = top_items_df.head(5)\n",
    "top_items_df.style.format({\n",
    "    \"Item Price\":'${:,.2f}',\n",
    "    \"Total Purchase Value\":'${:,.2f}'\n",
    "})"
   ]
  },
  {
   "cell_type": "markdown",
   "metadata": {},
   "source": [
    "## Most Profitable Items"
   ]
  },
  {
   "cell_type": "markdown",
   "metadata": {},
   "source": [
    "* Sort the above table by total purchase value in descending order\n",
    "\n",
    "\n",
    "* Optional: give the displayed data cleaner formatting\n",
    "\n",
    "\n",
    "* Display a preview of the data frame\n",
    "\n"
   ]
  },
  {
   "cell_type": "code",
   "execution_count": 10,
   "metadata": {
    "scrolled": true
   },
   "outputs": [
    {
     "data": {
      "text/html": [
       "<style  type=\"text/css\" >\n",
       "</style><table id=\"T_6f491540_f71e_11ea_bece_185e0fb0575b\" ><thead>    <tr>        <th class=\"blank\" ></th>        <th class=\"blank level0\" ></th>        <th class=\"col_heading level0 col0\" >Purchase Count</th>        <th class=\"col_heading level0 col1\" >Item Price</th>        <th class=\"col_heading level0 col2\" >Total Purchase Value</th>    </tr>    <tr>        <th class=\"index_name level0\" >Item ID</th>        <th class=\"index_name level1\" >Item Name</th>        <th class=\"blank\" ></th>        <th class=\"blank\" ></th>        <th class=\"blank\" ></th>    </tr></thead><tbody>\n",
       "                <tr>\n",
       "                        <th id=\"T_6f491540_f71e_11ea_bece_185e0fb0575blevel0_row0\" class=\"row_heading level0 row0\" >92</th>\n",
       "                        <th id=\"T_6f491540_f71e_11ea_bece_185e0fb0575blevel1_row0\" class=\"row_heading level1 row0\" >Final Critic</th>\n",
       "                        <td id=\"T_6f491540_f71e_11ea_bece_185e0fb0575brow0_col0\" class=\"data row0 col0\" >13</td>\n",
       "                        <td id=\"T_6f491540_f71e_11ea_bece_185e0fb0575brow0_col1\" class=\"data row0 col1\" >$4.61</td>\n",
       "                        <td id=\"T_6f491540_f71e_11ea_bece_185e0fb0575brow0_col2\" class=\"data row0 col2\" >$59.99</td>\n",
       "            </tr>\n",
       "            <tr>\n",
       "                        <th id=\"T_6f491540_f71e_11ea_bece_185e0fb0575blevel0_row1\" class=\"row_heading level0 row1\" >178</th>\n",
       "                        <th id=\"T_6f491540_f71e_11ea_bece_185e0fb0575blevel1_row1\" class=\"row_heading level1 row1\" >Oathbreaker, Last Hope of the Breaking Storm</th>\n",
       "                        <td id=\"T_6f491540_f71e_11ea_bece_185e0fb0575brow1_col0\" class=\"data row1 col0\" >12</td>\n",
       "                        <td id=\"T_6f491540_f71e_11ea_bece_185e0fb0575brow1_col1\" class=\"data row1 col1\" >$4.23</td>\n",
       "                        <td id=\"T_6f491540_f71e_11ea_bece_185e0fb0575brow1_col2\" class=\"data row1 col2\" >$50.76</td>\n",
       "            </tr>\n",
       "            <tr>\n",
       "                        <th id=\"T_6f491540_f71e_11ea_bece_185e0fb0575blevel0_row2\" class=\"row_heading level0 row2\" >145</th>\n",
       "                        <th id=\"T_6f491540_f71e_11ea_bece_185e0fb0575blevel1_row2\" class=\"row_heading level1 row2\" >Fiery Glass Crusader</th>\n",
       "                        <td id=\"T_6f491540_f71e_11ea_bece_185e0fb0575brow2_col0\" class=\"data row2 col0\" >9</td>\n",
       "                        <td id=\"T_6f491540_f71e_11ea_bece_185e0fb0575brow2_col1\" class=\"data row2 col1\" >$4.58</td>\n",
       "                        <td id=\"T_6f491540_f71e_11ea_bece_185e0fb0575brow2_col2\" class=\"data row2 col2\" >$41.22</td>\n",
       "            </tr>\n",
       "            <tr>\n",
       "                        <th id=\"T_6f491540_f71e_11ea_bece_185e0fb0575blevel0_row3\" class=\"row_heading level0 row3\" >108</th>\n",
       "                        <th id=\"T_6f491540_f71e_11ea_bece_185e0fb0575blevel1_row3\" class=\"row_heading level1 row3\" >Extraction, Quickblade Of Trembling Hands</th>\n",
       "                        <td id=\"T_6f491540_f71e_11ea_bece_185e0fb0575brow3_col0\" class=\"data row3 col0\" >9</td>\n",
       "                        <td id=\"T_6f491540_f71e_11ea_bece_185e0fb0575brow3_col1\" class=\"data row3 col1\" >$3.53</td>\n",
       "                        <td id=\"T_6f491540_f71e_11ea_bece_185e0fb0575brow3_col2\" class=\"data row3 col2\" >$31.77</td>\n",
       "            </tr>\n",
       "            <tr>\n",
       "                        <th id=\"T_6f491540_f71e_11ea_bece_185e0fb0575blevel0_row4\" class=\"row_heading level0 row4\" >132</th>\n",
       "                        <th id=\"T_6f491540_f71e_11ea_bece_185e0fb0575blevel1_row4\" class=\"row_heading level1 row4\" >Persuasion</th>\n",
       "                        <td id=\"T_6f491540_f71e_11ea_bece_185e0fb0575brow4_col0\" class=\"data row4 col0\" >9</td>\n",
       "                        <td id=\"T_6f491540_f71e_11ea_bece_185e0fb0575brow4_col1\" class=\"data row4 col1\" >$3.22</td>\n",
       "                        <td id=\"T_6f491540_f71e_11ea_bece_185e0fb0575brow4_col2\" class=\"data row4 col2\" >$28.99</td>\n",
       "            </tr>\n",
       "    </tbody></table>"
      ],
      "text/plain": [
       "<pandas.io.formats.style.Styler at 0x24dddf9fb80>"
      ]
     },
     "execution_count": 10,
     "metadata": {},
     "output_type": "execute_result"
    }
   ],
   "source": [
    "# Find top 5 spenders by total purchase value\n",
    "top_items_df = top_items_df.sort_values([\"Total Purchase Value\"], ascending = False)\n",
    "top_items_df = top_items_df.head(5)\n",
    "top_items_df.style.format({\n",
    "    \"Item Price\":'${:,.2f}',\n",
    "    \"Total Purchase Value\":'${:,.2f}'\n",
    "})"
   ]
  }
 ],
 "metadata": {
  "anaconda-cloud": {},
  "kernel_info": {
   "name": "python3"
  },
  "kernelspec": {
   "display_name": "Python 3",
   "language": "python",
   "name": "python3"
  },
  "language_info": {
   "codemirror_mode": {
    "name": "ipython",
    "version": 3
   },
   "file_extension": ".py",
   "mimetype": "text/x-python",
   "name": "python",
   "nbconvert_exporter": "python",
   "pygments_lexer": "ipython3",
   "version": "3.8.3"
  },
  "latex_envs": {
   "LaTeX_envs_menu_present": true,
   "autoclose": false,
   "autocomplete": true,
   "bibliofile": "biblio.bib",
   "cite_by": "apalike",
   "current_citInitial": 1,
   "eqLabelWithNumbers": true,
   "eqNumInitial": 1,
   "hotkeys": {
    "equation": "Ctrl-E",
    "itemize": "Ctrl-I"
   },
   "labels_anchors": false,
   "latex_user_defs": false,
   "report_style_numbering": false,
   "user_envs_cfg": false
  },
  "nteract": {
   "version": "0.2.0"
  }
 },
 "nbformat": 4,
 "nbformat_minor": 2
}
